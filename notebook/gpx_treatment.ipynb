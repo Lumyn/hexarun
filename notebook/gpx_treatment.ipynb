{
 "cells": [
  {
   "cell_type": "code",
   "execution_count": 5,
   "id": "50deff4b",
   "metadata": {},
   "outputs": [],
   "source": [
    "import os\n",
    "\n",
    "import h3\n",
    "import pandas as pd\n",
    "import xml.etree.ElementTree as ET\n",
    "from datetime import datetime"
   ]
  },
  {
   "cell_type": "code",
   "execution_count": 14,
   "id": "026b033d",
   "metadata": {},
   "outputs": [],
   "source": [
    "def parse_gpx_to_dataframe(gpx_file_path):\n",
    "    \"\"\"\n",
    "    Parse a GPX file and convert it to a pandas DataFrame.\n",
    "    Returns a DataFrame with columns: lat, lon, elevation, time, heart_rate\n",
    "    \"\"\"\n",
    "    tree = ET.parse(gpx_file_path)\n",
    "    root = tree.getroot()\n",
    "    \n",
    "    # Define namespaces\n",
    "    namespaces = {\n",
    "        'gpx': 'http://www.topografix.com/GPX/1/1',\n",
    "        'gpxtpx': 'http://www.garmin.com/xmlschemas/TrackPointExtension/v1'\n",
    "    }\n",
    "    \n",
    "    track_points = []\n",
    "    \n",
    "    # Find all track points\n",
    "    for trkpt in root.findall('.//gpx:trkpt', namespaces):\n",
    "        lat = float(trkpt.get('lat'))\n",
    "        lon = float(trkpt.get('lon'))\n",
    "        \n",
    "        # Get elevation\n",
    "        ele = trkpt.find('gpx:ele', namespaces)\n",
    "        elevation = float(ele.text) if ele is not None else None\n",
    "        \n",
    "        # Get time\n",
    "        time_elem = trkpt.find('gpx:time', namespaces)\n",
    "        time_str = time_elem.text if time_elem is not None else None\n",
    "        \n",
    "        # Get heart rate from extensions\n",
    "        hr_elem = trkpt.find('.//gpxtpx:hr', namespaces)\n",
    "        heart_rate = int(hr_elem.text) if hr_elem is not None else None\n",
    "        \n",
    "        track_points.append({\n",
    "            'lat': lat,\n",
    "            'lon': lon,\n",
    "            'elevation': elevation,\n",
    "            'time': time_str,\n",
    "            'heart_rate': heart_rate\n",
    "        })\n",
    "    \n",
    "    df = pd.DataFrame(track_points)\n",
    "    \n",
    "    # Convert time to datetime\n",
    "    if 'time' in df.columns:\n",
    "        df['time'] = pd.to_datetime(df['time'])\n",
    "    \n",
    "    return df\n",
    "\n",
    "def add_h3_to_gpx_dataframe(df, resolution=9):\n",
    "    \"\"\"Add H3 index and boundaries to the GPX DataFrame\"\"\"\n",
    "    h3_data = []\n",
    "    for _, row in df.iterrows():\n",
    "        lat = row['lat']\n",
    "        lon = row['lon']\n",
    "        h3_index = h3.latlng_to_cell(lat, lon, resolution)\n",
    "        boundaries = h3.cell_to_boundary(h3_index)\n",
    "        h3_data.append({\n",
    "            'h3_index': h3_index,\n",
    "            'h3_boundaries': boundaries\n",
    "        })\n",
    "    \n",
    "    h3_df = pd.DataFrame(h3_data)\n",
    "    return pd.concat([df, h3_df], axis=1)"
   ]
  },
  {
   "cell_type": "code",
   "execution_count": null,
   "id": "b514ad63",
   "metadata": {},
   "outputs": [
    {
     "name": "stdout",
     "output_type": "stream",
     "text": [
      "GPX data shape: (10805, 5)\n",
      "Columns: ['lat', 'lon', 'elevation', 'time', 'heart_rate']\n"
     ]
    },
    {
     "data": {
      "text/plain": [
       "(10805, 5)"
      ]
     },
     "execution_count": 4,
     "metadata": {},
     "output_type": "execute_result"
    }
   ],
   "source": [
    "# Parse the GPX file\n",
    "gpx_df = parse_gpx_to_dataframe('../data/player_runs/pl_001/Afternoon_Run.gpx')\n",
    "print(f\"GPX data shape: {gpx_df.shape}\")\n",
    "print(f\"Columns: {gpx_df.columns.tolist()}\")"
   ]
  },
  {
   "cell_type": "markdown",
   "id": "a9abf8cd",
   "metadata": {},
   "source": [
    "# Compile data"
   ]
  },
  {
   "cell_type": "code",
   "execution_count": 11,
   "id": "5be669b2",
   "metadata": {},
   "outputs": [],
   "source": [
    "path_data  = '../data/player_runs/'"
   ]
  },
  {
   "cell_type": "code",
   "execution_count": 55,
   "id": "ebd08497",
   "metadata": {},
   "outputs": [],
   "source": [
    "player_data_file_name = 'player_table.csv'\n",
    "\n",
    "df_player_data = pd.read_csv(os.path.join(path_data, '..', player_data_file_name))[['player_id',\n",
    "'player_name', 'player_color']]"
   ]
  },
  {
   "cell_type": "code",
   "execution_count": 56,
   "id": "d5f4e846",
   "metadata": {},
   "outputs": [],
   "source": [
    "l_player_folders = [f for f in os.listdir('../data/player_runs/') if f.startswith('pl')]\n",
    "\n",
    "df_territory = pd.DataFrame()\n",
    "\n",
    "for player_folder in l_player_folders:\n",
    "\n",
    "    df_tmp_player = pd.DataFrame()\n",
    "\n",
    "    for gpx_file in os.listdir(os.path.join(path_data, player_folder)):\n",
    "\n",
    "        df_tmp_gpx = add_h3_to_gpx_dataframe(\n",
    "            parse_gpx_to_dataframe(\n",
    "                os.path.join(path_data, player_folder, gpx_file)\n",
    "            )\n",
    "        )\n",
    "    \n",
    "        df_tmp_player = pd.concat([df_tmp_player, df_tmp_gpx])\n",
    "\n",
    "    df_tmp_player = df_tmp_player.groupby('h3_index', as_index=False).agg(\n",
    "    {'time':'max'}\n",
    "    )\n",
    "\n",
    "    df_tmp_player['player_id'] = player_folder\n",
    "\n",
    "    df_territory = pd.concat([df_territory, df_tmp_player])\n",
    "\n",
    "df_territory = df_territory.sort_values(by='time')\n",
    "\n",
    "df_territory = df_territory.groupby('h3_index', as_index=False).agg(\n",
    "{'time':'max',\n",
    "'player_id':'first'}\n",
    ")\n",
    "\n",
    "df_territory = pd.merge(df_territory, df_player_data, how='left', on = 'player_id')"
   ]
  },
  {
   "cell_type": "code",
   "execution_count": 57,
   "id": "d473c1de",
   "metadata": {},
   "outputs": [
    {
     "data": {
      "text/html": [
       "<div>\n",
       "<style scoped>\n",
       "    .dataframe tbody tr th:only-of-type {\n",
       "        vertical-align: middle;\n",
       "    }\n",
       "\n",
       "    .dataframe tbody tr th {\n",
       "        vertical-align: top;\n",
       "    }\n",
       "\n",
       "    .dataframe thead th {\n",
       "        text-align: right;\n",
       "    }\n",
       "</style>\n",
       "<table border=\"1\" class=\"dataframe\">\n",
       "  <thead>\n",
       "    <tr style=\"text-align: right;\">\n",
       "      <th></th>\n",
       "      <th>h3_index</th>\n",
       "      <th>time</th>\n",
       "      <th>player_id</th>\n",
       "      <th>player_name</th>\n",
       "      <th>player_color</th>\n",
       "    </tr>\n",
       "  </thead>\n",
       "  <tbody>\n",
       "    <tr>\n",
       "      <th>0</th>\n",
       "      <td>89396002247ffff</td>\n",
       "      <td>2025-09-07 09:39:25+00:00</td>\n",
       "      <td>pl_002</td>\n",
       "      <td>Maxime BBBB</td>\n",
       "      <td>#90D5FF</td>\n",
       "    </tr>\n",
       "    <tr>\n",
       "      <th>1</th>\n",
       "      <td>8939600224bffff</td>\n",
       "      <td>2025-09-07 10:02:32+00:00</td>\n",
       "      <td>pl_002</td>\n",
       "      <td>Maxime BBBB</td>\n",
       "      <td>#90D5FF</td>\n",
       "    </tr>\n",
       "    <tr>\n",
       "      <th>2</th>\n",
       "      <td>8939600224fffff</td>\n",
       "      <td>2025-09-07 10:00:58+00:00</td>\n",
       "      <td>pl_002</td>\n",
       "      <td>Maxime BBBB</td>\n",
       "      <td>#90D5FF</td>\n",
       "    </tr>\n",
       "    <tr>\n",
       "      <th>3</th>\n",
       "      <td>89396002257ffff</td>\n",
       "      <td>2025-09-07 09:37:48+00:00</td>\n",
       "      <td>pl_002</td>\n",
       "      <td>Maxime BBBB</td>\n",
       "      <td>#90D5FF</td>\n",
       "    </tr>\n",
       "    <tr>\n",
       "      <th>4</th>\n",
       "      <td>89396002273ffff</td>\n",
       "      <td>2025-09-07 09:41:35+00:00</td>\n",
       "      <td>pl_002</td>\n",
       "      <td>Maxime BBBB</td>\n",
       "      <td>#90D5FF</td>\n",
       "    </tr>\n",
       "    <tr>\n",
       "      <th>...</th>\n",
       "      <td>...</td>\n",
       "      <td>...</td>\n",
       "      <td>...</td>\n",
       "      <td>...</td>\n",
       "      <td>...</td>\n",
       "    </tr>\n",
       "    <tr>\n",
       "      <th>135</th>\n",
       "      <td>8939601aea3ffff</td>\n",
       "      <td>2025-09-06 13:55:22+00:00</td>\n",
       "      <td>pl_001</td>\n",
       "      <td>Maxime Le Chanceux</td>\n",
       "      <td>#EFBF04</td>\n",
       "    </tr>\n",
       "    <tr>\n",
       "      <th>136</th>\n",
       "      <td>8939601aea7ffff</td>\n",
       "      <td>2025-09-06 12:34:43+00:00</td>\n",
       "      <td>pl_001</td>\n",
       "      <td>Maxime Le Chanceux</td>\n",
       "      <td>#EFBF04</td>\n",
       "    </tr>\n",
       "    <tr>\n",
       "      <th>137</th>\n",
       "      <td>8939601aeabffff</td>\n",
       "      <td>2025-09-06 13:54:22+00:00</td>\n",
       "      <td>pl_001</td>\n",
       "      <td>Maxime Le Chanceux</td>\n",
       "      <td>#EFBF04</td>\n",
       "    </tr>\n",
       "    <tr>\n",
       "      <th>138</th>\n",
       "      <td>8939601aeafffff</td>\n",
       "      <td>2025-09-06 13:58:19+00:00</td>\n",
       "      <td>pl_001</td>\n",
       "      <td>Maxime Le Chanceux</td>\n",
       "      <td>#EFBF04</td>\n",
       "    </tr>\n",
       "    <tr>\n",
       "      <th>139</th>\n",
       "      <td>8939601aebbffff</td>\n",
       "      <td>2025-09-06 13:52:53+00:00</td>\n",
       "      <td>pl_001</td>\n",
       "      <td>Maxime Le Chanceux</td>\n",
       "      <td>#EFBF04</td>\n",
       "    </tr>\n",
       "  </tbody>\n",
       "</table>\n",
       "<p>140 rows × 5 columns</p>\n",
       "</div>"
      ],
      "text/plain": [
       "            h3_index                      time player_id         player_name  \\\n",
       "0    89396002247ffff 2025-09-07 09:39:25+00:00    pl_002         Maxime BBBB   \n",
       "1    8939600224bffff 2025-09-07 10:02:32+00:00    pl_002         Maxime BBBB   \n",
       "2    8939600224fffff 2025-09-07 10:00:58+00:00    pl_002         Maxime BBBB   \n",
       "3    89396002257ffff 2025-09-07 09:37:48+00:00    pl_002         Maxime BBBB   \n",
       "4    89396002273ffff 2025-09-07 09:41:35+00:00    pl_002         Maxime BBBB   \n",
       "..               ...                       ...       ...                 ...   \n",
       "135  8939601aea3ffff 2025-09-06 13:55:22+00:00    pl_001  Maxime Le Chanceux   \n",
       "136  8939601aea7ffff 2025-09-06 12:34:43+00:00    pl_001  Maxime Le Chanceux   \n",
       "137  8939601aeabffff 2025-09-06 13:54:22+00:00    pl_001  Maxime Le Chanceux   \n",
       "138  8939601aeafffff 2025-09-06 13:58:19+00:00    pl_001  Maxime Le Chanceux   \n",
       "139  8939601aebbffff 2025-09-06 13:52:53+00:00    pl_001  Maxime Le Chanceux   \n",
       "\n",
       "    player_color  \n",
       "0        #90D5FF  \n",
       "1        #90D5FF  \n",
       "2        #90D5FF  \n",
       "3        #90D5FF  \n",
       "4        #90D5FF  \n",
       "..           ...  \n",
       "135      #EFBF04  \n",
       "136      #EFBF04  \n",
       "137      #EFBF04  \n",
       "138      #EFBF04  \n",
       "139      #EFBF04  \n",
       "\n",
       "[140 rows x 5 columns]"
      ]
     },
     "execution_count": 57,
     "metadata": {},
     "output_type": "execute_result"
    }
   ],
   "source": [
    "df_territory"
   ]
  },
  {
   "cell_type": "code",
   "execution_count": 58,
   "id": "f197cf0b",
   "metadata": {},
   "outputs": [],
   "source": [
    "df_territory.to_csv('../data/gpx_treated_data.csv')"
   ]
  },
  {
   "cell_type": "code",
   "execution_count": 59,
   "id": "1b5b9d60",
   "metadata": {},
   "outputs": [
    {
     "data": {
      "text/html": [
       "<div>\n",
       "<style scoped>\n",
       "    .dataframe tbody tr th:only-of-type {\n",
       "        vertical-align: middle;\n",
       "    }\n",
       "\n",
       "    .dataframe tbody tr th {\n",
       "        vertical-align: top;\n",
       "    }\n",
       "\n",
       "    .dataframe thead th {\n",
       "        text-align: right;\n",
       "    }\n",
       "</style>\n",
       "<table border=\"1\" class=\"dataframe\">\n",
       "  <thead>\n",
       "    <tr style=\"text-align: right;\">\n",
       "      <th></th>\n",
       "      <th>h3_index</th>\n",
       "      <th>time</th>\n",
       "      <th>player_id</th>\n",
       "      <th>player_name</th>\n",
       "      <th>player_color</th>\n",
       "    </tr>\n",
       "  </thead>\n",
       "  <tbody>\n",
       "    <tr>\n",
       "      <th>129</th>\n",
       "      <td>8939601ae23ffff</td>\n",
       "      <td>2025-09-06 12:55:29+00:00</td>\n",
       "      <td>pl_001</td>\n",
       "      <td>Maxime Le Chanceux</td>\n",
       "      <td>#EFBF04</td>\n",
       "    </tr>\n",
       "  </tbody>\n",
       "</table>\n",
       "</div>"
      ],
      "text/plain": [
       "            h3_index                      time player_id         player_name  \\\n",
       "129  8939601ae23ffff 2025-09-06 12:55:29+00:00    pl_001  Maxime Le Chanceux   \n",
       "\n",
       "    player_color  \n",
       "129      #EFBF04  "
      ]
     },
     "execution_count": 59,
     "metadata": {},
     "output_type": "execute_result"
    }
   ],
   "source": [
    "df_territory.loc[df_territory.h3_index == '8939601ae23ffff']"
   ]
  },
  {
   "cell_type": "code",
   "execution_count": null,
   "id": "b9183f0b",
   "metadata": {},
   "outputs": [],
   "source": []
  },
  {
   "cell_type": "code",
   "execution_count": null,
   "id": "3aa30c0f",
   "metadata": {},
   "outputs": [],
   "source": []
  },
  {
   "cell_type": "markdown",
   "id": "2bf3f1dd",
   "metadata": {},
   "source": [
    "# tmp IN post"
   ]
  },
  {
   "cell_type": "code",
   "execution_count": null,
   "id": "9528efa2",
   "metadata": {},
   "outputs": [],
   "source": [
    "df_in = pd.read_csv('../tmp_linkedin_post.csv')"
   ]
  },
  {
   "cell_type": "code",
   "execution_count": 62,
   "id": "fa7d7ddf",
   "metadata": {},
   "outputs": [
    {
     "data": {
      "text/html": [
       "<div>\n",
       "<style scoped>\n",
       "    .dataframe tbody tr th:only-of-type {\n",
       "        vertical-align: middle;\n",
       "    }\n",
       "\n",
       "    .dataframe tbody tr th {\n",
       "        vertical-align: top;\n",
       "    }\n",
       "\n",
       "    .dataframe thead th {\n",
       "        text-align: right;\n",
       "    }\n",
       "</style>\n",
       "<table border=\"1\" class=\"dataframe\">\n",
       "  <thead>\n",
       "    <tr style=\"text-align: right;\">\n",
       "      <th></th>\n",
       "      <th>raw</th>\n",
       "      <th>clean</th>\n",
       "    </tr>\n",
       "  </thead>\n",
       "  <tbody>\n",
       "    <tr>\n",
       "      <th>0</th>\n",
       "      <td>Salomon 2425 trail short men</td>\n",
       "      <td>Men - Trail - Shorts</td>\n",
       "    </tr>\n",
       "    <tr>\n",
       "      <th>1</th>\n",
       "      <td>Alim-oct24 boost tah chocolate</td>\n",
       "      <td>Food - Bars</td>\n",
       "    </tr>\n",
       "    <tr>\n",
       "      <th>2</th>\n",
       "      <td>nike air zoom pegasus 40 w blk/wht sz8</td>\n",
       "      <td>Women - Running - Shoes</td>\n",
       "    </tr>\n",
       "    <tr>\n",
       "      <th>3</th>\n",
       "      <td>proteine whey vanille 2kg myprotein promo</td>\n",
       "      <td>Food - Supplements</td>\n",
       "    </tr>\n",
       "    <tr>\n",
       "      <th>4</th>\n",
       "      <td>garmin fenix 7 sapphire solar titane gps</td>\n",
       "      <td>Electronics - Watches - GPS</td>\n",
       "    </tr>\n",
       "  </tbody>\n",
       "</table>\n",
       "</div>"
      ],
      "text/plain": [
       "                                         raw                        clean\n",
       "0              Salomon 2425 trail short men          Men - Trail - Shorts\n",
       "1             Alim-oct24 boost tah chocolate                  Food - Bars\n",
       "2     nike air zoom pegasus 40 w blk/wht sz8     Women - Running - Shoes \n",
       "3  proteine whey vanille 2kg myprotein promo           Food - Supplements\n",
       "4   garmin fenix 7 sapphire solar titane gps  Electronics - Watches - GPS"
      ]
     },
     "execution_count": 62,
     "metadata": {},
     "output_type": "execute_result"
    }
   ],
   "source": [
    "df_in.head()"
   ]
  },
  {
   "cell_type": "code",
   "execution_count": 70,
   "id": "1c860b29",
   "metadata": {},
   "outputs": [],
   "source": [
    "import time"
   ]
  },
  {
   "cell_type": "code",
   "execution_count": 78,
   "id": "922507cf",
   "metadata": {},
   "outputs": [
    {
     "name": "stdout",
     "output_type": "stream",
     "text": [
      "Salomon 2425 trail short men \n",
      "Men - Trail - Shorts\n",
      "\n",
      "Alim-oct24 boost tah chocolate\n",
      "Food - Bars\n",
      "\n",
      "nike air zoom pegasus 40 w blk/wht sz8\n",
      "Women - Running - Shoes \n",
      "\n",
      "proteine whey vanille 2kg myprotein promo\n",
      "Food - Supplements\n",
      "\n",
      "garmin fenix 7 sapphire solar titane gps\n",
      "Electronics - Watches - GPS\n",
      "\n",
      "patagonia nano puff jkt mens blue M\n",
      "Men - Outdoor - Jackets\n",
      "\n",
      "clif bar crunchy pb 12pack exp-dec24\n",
      "Food - Bars\n",
      "\n"
     ]
    }
   ],
   "source": [
    "for _, row in df_in.iterrows():\n",
    "    print(row['raw'])\n",
    "    time.sleep(0.7)\n",
    "    print(row['clean'])\n",
    "    time.sleep(0.2)\n",
    "    print('')"
   ]
  }
 ],
 "metadata": {
  "kernelspec": {
   "display_name": ".venv",
   "language": "python",
   "name": "python3"
  },
  "language_info": {
   "codemirror_mode": {
    "name": "ipython",
    "version": 3
   },
   "file_extension": ".py",
   "mimetype": "text/x-python",
   "name": "python",
   "nbconvert_exporter": "python",
   "pygments_lexer": "ipython3",
   "version": "3.12.4"
  }
 },
 "nbformat": 4,
 "nbformat_minor": 5
}
